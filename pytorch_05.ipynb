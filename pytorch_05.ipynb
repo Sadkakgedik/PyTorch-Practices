{
 "cells": [
  {
   "cell_type": "markdown",
   "metadata": {},
   "source": [
    "PUTTING IT ALL TOGETHER"
   ]
  },
  {
   "cell_type": "code",
   "execution_count": 56,
   "metadata": {},
   "outputs": [
    {
     "data": {
      "text/plain": [
       "'2.0.0'"
      ]
     },
     "execution_count": 56,
     "metadata": {},
     "output_type": "execute_result"
    }
   ],
   "source": [
    "import torch\n",
    "from torch import nn\n",
    "import matplotlib.pyplot as plt\n",
    "\n",
    "\n",
    "torch.__version__"
   ]
  },
  {
   "attachments": {},
   "cell_type": "markdown",
   "metadata": {},
   "source": [
    "DATA\n",
    "Create Device agnostic code"
   ]
  },
  {
   "cell_type": "code",
   "execution_count": 57,
   "metadata": {},
   "outputs": [
    {
     "name": "stdout",
     "output_type": "stream",
     "text": [
      "Using device:cuda\n"
     ]
    }
   ],
   "source": [
    "device = \"cuda\" if torch.cuda.is_available() else \"cpu\"\n",
    "\n",
    "print(f\"Using device:{device}\")\n"
   ]
  },
  {
   "cell_type": "code",
   "execution_count": 58,
   "metadata": {},
   "outputs": [
    {
     "data": {
      "text/plain": [
       "(tensor([[0.0000],\n",
       "         [0.0200],\n",
       "         [0.0400],\n",
       "         [0.0600],\n",
       "         [0.0800],\n",
       "         [0.1000],\n",
       "         [0.1200],\n",
       "         [0.1400],\n",
       "         [0.1600],\n",
       "         [0.1800]]),\n",
       " tensor([[0.3000],\n",
       "         [0.3140],\n",
       "         [0.3280],\n",
       "         [0.3420],\n",
       "         [0.3560],\n",
       "         [0.3700],\n",
       "         [0.3840],\n",
       "         [0.3980],\n",
       "         [0.4120],\n",
       "         [0.4260]]))"
      ]
     },
     "execution_count": 58,
     "metadata": {},
     "output_type": "execute_result"
    }
   ],
   "source": [
    "#Create some data using the linear regression formula of y= weight x = bias\n",
    "\n",
    "weight = 0.7\n",
    "bias = 0.3\n",
    "\n",
    "#Create range values\n",
    "\n",
    "start = 0\n",
    "end = 1\n",
    "\n",
    "step =0.02\n",
    "\n",
    "#Create X and y (features and labels)\n",
    "\n",
    "X = torch.arange(start,end,step).unsqueeze(dim=1)\n",
    "\n",
    "y = weight*X + bias\n",
    "\n",
    "X[:10] , y[:10]\n",
    "\n",
    "\n"
   ]
  },
  {
   "cell_type": "code",
   "execution_count": 59,
   "metadata": {},
   "outputs": [
    {
     "data": {
      "text/plain": [
       "(40, 40, 10, 10)"
      ]
     },
     "execution_count": 59,
     "metadata": {},
     "output_type": "execute_result"
    }
   ],
   "source": [
    "#Split data\n",
    "\n",
    "train_split = int(0.8*len(X))\n",
    "\n",
    "X_train,y_train = X[:train_split],y[:train_split]\n",
    "\n",
    "X_test,y_test = X[train_split:],y[train_split:]\n",
    "\n",
    "len(X_train),len(y_train),len(X_test),len(y_test)\n"
   ]
  },
  {
   "cell_type": "code",
   "execution_count": 60,
   "metadata": {},
   "outputs": [],
   "source": [
    "def plot_predictions(train_data=X_train,\n",
    "                     train_labels=y_train,\n",
    "                     test_data=X_test,\n",
    "                     test_labels=y_test,\n",
    "                     predictions=None):\n",
    "    plt.figure(figsize=(10,7))\n",
    "\n",
    "    #plot training data in blue\n",
    "    plt.scatter(train_data,train_labels,c=\"b\",s=4,label=\"Training data\")\n",
    "    #plot testing data in green\n",
    "    plt.scatter(test_data,test_labels,c=\"g\",s=4,label=\"Testing Data\")\n",
    "    #Are there predictions?\n",
    "    if predictions is not None:\n",
    "        #plot predicitions if they exist\n",
    "        plt.scatter(test_data,predictions,c=\"r\",label=\"Predictions\")\n",
    "\n",
    "    #show the legend\n",
    "    plt.legend(prop={\"size\": 14})"
   ]
  },
  {
   "cell_type": "code",
   "execution_count": 61,
   "metadata": {},
   "outputs": [
    {
     "data": {
      "image/png": "[encoded data removed]",
      "text/plain": [
       "<Figure size 1000x700 with 1 Axes>"
      ]
     },
     "metadata": {},
     "output_type": "display_data"
    }
   ],
   "source": [
    "#Plot the data\n",
    "plot_predictions(X_train,y_train,X_test,y_test)"
   ]
  },
  {
   "cell_type": "code",
   "execution_count": 62,
   "metadata": {},
   "outputs": [
    {
     "data": {
      "text/plain": [
       "(LinearRegressionModel_2(\n",
       "   (linear_layer): Linear(in_features=1, out_features=1, bias=True)\n",
       " ),\n",
       " L1Loss(),\n",
       " SGD (\n",
       " Parameter Group 0\n",
       "     dampening: 0\n",
       "     differentiable: False\n",
       "     foreach: None\n",
       "     lr: 0.01\n",
       "     maximize: False\n",
       "     momentum: 0\n",
       "     nesterov: False\n",
       "     weight_decay: 0\n",
       " ),\n",
       " OrderedDict([('linear_layer.weight', tensor([[0.7645]])),\n",
       "              ('linear_layer.bias', tensor([0.8300]))]))"
      ]
     },
     "execution_count": 62,
     "metadata": {},
     "output_type": "execute_result"
    }
   ],
   "source": [
    "#Building a PyTorch model\n",
    "torch.manual_seed(42)\n",
    "\n",
    "class LinearRegressionModel_2(nn.Module):\n",
    "    def __init__(self) -> None:\n",
    "        super().__init__()\n",
    "        #using nn.Linear()\n",
    "        self.linear_layer= nn.Linear(in_features=1,\n",
    "                                     out_features=1)\n",
    "        \n",
    "\n",
    "    def forward(self,x:torch.Tensor) -> torch.Tensor:\n",
    "        return self.linear_layer(x)\n",
    "    \n",
    "model_1=LinearRegressionModel_2()\n",
    "\n",
    "#Create a Loss function\n",
    "fn_loss=nn.L1Loss()\n",
    "\n",
    "#Setup Optimizer\n",
    "optimizer=torch.optim.SGD(params=model_1.parameters(),lr=0.01)\n",
    "\n",
    "model_1,fn_loss,optimizer,model_1.state_dict()"
   ]
  },
  {
   "cell_type": "code",
   "execution_count": 63,
   "metadata": {},
   "outputs": [
    {
     "data": {
      "text/plain": [
       "device(type='cpu')"
      ]
     },
     "execution_count": 63,
     "metadata": {},
     "output_type": "execute_result"
    }
   ],
   "source": [
    "next(model_1.parameters()).device"
   ]
  },
  {
   "cell_type": "code",
   "execution_count": 64,
   "metadata": {},
   "outputs": [
    {
     "data": {
      "text/plain": [
       "device(type='cuda', index=0)"
      ]
     },
     "execution_count": 64,
     "metadata": {},
     "output_type": "execute_result"
    }
   ],
   "source": [
    "model_1.to(device)\n",
    "next(model_1.parameters()).device"
   ]
  },
  {
   "cell_type": "code",
   "execution_count": 73,
   "metadata": {},
   "outputs": [
    {
     "name": "stdout",
     "output_type": "stream",
     "text": [
      "Epoch:0 | Loss:0.004285582806915045 | Test loss:0.04503516107797623\n",
      "Epoch:10 | Loss:0.004285582806915045 | Test loss:0.04503516107797623\n",
      "Epoch:20 | Loss:0.004285582806915045 | Test loss:0.04503516107797623\n",
      "Epoch:30 | Loss:0.004285582806915045 | Test loss:0.04503516107797623\n",
      "Epoch:40 | Loss:0.004285582806915045 | Test loss:0.04503516107797623\n",
      "Epoch:50 | Loss:0.004285582806915045 | Test loss:0.04503516107797623\n",
      "Epoch:60 | Loss:0.004285582806915045 | Test loss:0.04503516107797623\n",
      "Epoch:70 | Loss:0.004285582806915045 | Test loss:0.04503516107797623\n",
      "Epoch:80 | Loss:0.004285582806915045 | Test loss:0.04503516107797623\n",
      "Epoch:90 | Loss:0.004285582806915045 | Test loss:0.04503516107797623\n",
      "Epoch:100 | Loss:0.004285582806915045 | Test loss:0.04503516107797623\n",
      "Epoch:110 | Loss:0.004285582806915045 | Test loss:0.04503516107797623\n",
      "Epoch:120 | Loss:0.004285582806915045 | Test loss:0.04503516107797623\n",
      "Epoch:130 | Loss:0.004285582806915045 | Test loss:0.04503516107797623\n",
      "Epoch:140 | Loss:0.004285582806915045 | Test loss:0.04503516107797623\n",
      "Epoch:150 | Loss:0.004285582806915045 | Test loss:0.04503516107797623\n",
      "Epoch:160 | Loss:0.004285582806915045 | Test loss:0.04503516107797623\n",
      "Epoch:170 | Loss:0.004285582806915045 | Test loss:0.04503516107797623\n",
      "Epoch:180 | Loss:0.004285582806915045 | Test loss:0.04503516107797623\n",
      "Epoch:190 | Loss:0.004285582806915045 | Test loss:0.04503516107797623\n"
     ]
    }
   ],
   "source": [
    "torch.manual_seed(42)\n",
    "#Trainig part\n",
    "epochs=200\n",
    "\n",
    "#Put data into target device (device agnostic code for data)\n",
    "\n",
    "X_train=X_train.to(device)\n",
    "y_train=X_train.to(device)\n",
    "X_test=X_test.to(device)\n",
    "y_test=y_test.to(device)\n",
    "\n",
    "for epoch in range(epochs):\n",
    "    model_1.train()\n",
    "\n",
    "    y_pred=model_1(X_train)\n",
    "\n",
    "    loss=fn_loss(y_pred,y_train)\n",
    "\n",
    "    optimizer.zero_grad()\n",
    "\n",
    "    loss.backward()\n",
    "\n",
    "    optimizer.step()\n",
    "\n",
    "    model_1.eval()\n",
    "\n",
    "    with torch.inference_mode():\n",
    "        test_pred=model_1(X_test)\n",
    "\n",
    "        test_loss=fn_loss(test_pred,y_test)\n",
    "\n",
    "    if epoch % 10 == 0:\n",
    "        print(f\"Epoch:{epoch} | Loss:{loss} | Test loss:{test_loss}\")"
   ]
  },
  {
   "cell_type": "code",
   "execution_count": 74,
   "metadata": {},
   "outputs": [
    {
     "data": {
      "text/plain": [
       "(OrderedDict([('linear_layer.weight', tensor([[0.9943]], device='cuda:0')),\n",
       "              ('linear_layer.bias', tensor([0.0065], device='cuda:0'))]),\n",
       " 0.7,\n",
       " 0.3)"
      ]
     },
     "execution_count": 74,
     "metadata": {},
     "output_type": "execute_result"
    }
   ],
   "source": [
    "model_1.state_dict(),weight,bias"
   ]
  },
  {
   "cell_type": "code",
   "execution_count": 75,
   "metadata": {},
   "outputs": [
    {
     "data": {
      "text/plain": [
       "tensor([[0.8019],\n",
       "        [0.8218],\n",
       "        [0.8417],\n",
       "        [0.8616],\n",
       "        [0.8815],\n",
       "        [0.9014],\n",
       "        [0.9213],\n",
       "        [0.9412],\n",
       "        [0.9610],\n",
       "        [0.9809]], device='cuda:0')"
      ]
     },
     "execution_count": 75,
     "metadata": {},
     "output_type": "execute_result"
    }
   ],
   "source": [
    "model_1.eval()\n",
    "\n",
    "#Make predictions\n",
    "\n",
    "with torch.inference_mode():\n",
    "    y_preds=model_1(X_test)\n",
    "\n",
    "y_preds"
   ]
  },
  {
   "cell_type": "code",
   "execution_count": 76,
   "metadata": {},
   "outputs": [
    {
     "data": {
      "image/png": "[encoded data removed]",
      "text/plain": [
       "<Figure size 1000x700 with 1 Axes>"
      ]
     },
     "metadata": {},
     "output_type": "display_data"
    }
   ],
   "source": [
    "plot_predictions(predictions=y_preds.cpu())"
   ]
  },
  {
   "cell_type": "code",
   "execution_count": null,
   "metadata": {},
   "outputs": [],
   "source": []
  },
  {
   "cell_type": "code",
   "execution_count": null,
   "metadata": {},
   "outputs": [],
   "source": []
  },
  {
   "cell_type": "code",
   "execution_count": null,
   "metadata": {},
   "outputs": [],
   "source": []
  },
  {
   "cell_type": "code",
   "execution_count": null,
   "metadata": {},
   "outputs": [],
   "source": []
  },
  {
   "cell_type": "code",
   "execution_count": null,
   "metadata": {},
   "outputs": [],
   "source": []
  },
  {
   "cell_type": "code",
   "execution_count": null,
   "metadata": {},
   "outputs": [],
   "source": []
  }
 ],
 "metadata": {
  "kernelspec": {
   "display_name": "ai_env2",
   "language": "python",
   "name": "python3"
  },
  "language_info": {
   "codemirror_mode": {
    "name": "ipython",
    "version": 3
   },
   "file_extension": ".py",
   "mimetype": "text/x-python",
   "name": "python",
   "nbconvert_exporter": "python",
   "pygments_lexer": "ipython3",
   "version": "3.9.16"
  },
  "orig_nbformat": 4
 },
 "nbformat": 4,
 "nbformat_minor": 2
}
